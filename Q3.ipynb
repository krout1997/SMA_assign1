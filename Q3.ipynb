{
  "nbformat": 4,
  "nbformat_minor": 0,
  "metadata": {
    "colab": {
      "name": "Q3.ipynb",
      "provenance": [],
      "collapsed_sections": []
    },
    "kernelspec": {
      "name": "python3",
      "display_name": "Python 3"
    },
    "language_info": {
      "name": "python"
    }
  },
  "cells": [
    {
      "cell_type": "code",
      "metadata": {
        "id": "WRaJmBqFIFHH"
      },
      "source": [
        "import networkx as nx\n",
        "import matplotlib.pyplot as plt\n",
        "import time\n",
        "from networkx.algorithms.community import greedy_modularity_communities\n",
        "from sklearn.cluster import SpectralClustering\n",
        "from sklearn.preprocessing import StandardScaler, normalize"
      ],
      "execution_count": 9,
      "outputs": []
    },
    {
      "cell_type": "code",
      "metadata": {
        "id": "DrprUJkXIKJz"
      },
      "source": [
        "#G=nx.read_gml('/content/sample_data/dolphins.gml',label='id')\n",
        "G=nx.read_gml('/content/karate.gml',label='id')\n",
        "#G = nx.read_pajek('/content/sample_data/jazz.net')"
      ],
      "execution_count": 4,
      "outputs": []
    },
    {
      "cell_type": "code",
      "metadata": {
        "id": "0YE0IB1BIlBo"
      },
      "source": [
        "import numpy as np\n",
        "import pandas as pd\n",
        "from sklearn.decomposition import PCA\n",
        "\n"
      ],
      "execution_count": 14,
      "outputs": []
    },
    {
      "cell_type": "code",
      "metadata": {
        "colab": {
          "base_uri": "https://localhost:8080/"
        },
        "id": "GVmNAzBRIN4U",
        "outputId": "878d4757-2256-44b8-fffc-4aac85cbeacc"
      },
      "source": [
        "start=time.time()\n",
        "\n",
        "W = nx.adjacency_matrix(G)\n",
        "print(W.todense())\n",
        "\n",
        "# degree matrix\n",
        "D = np.diag(np.sum(np.array(W.todense()), axis=1))\n",
        "print('degree matrix:')\n",
        "print(D)\n",
        "# laplacian matrix\n",
        "L = D - W\n",
        "print('laplacian matrix:')\n",
        "print(L)\n",
        "\n",
        "e, v = np.linalg.eig(L)\n",
        "# eigenvalues\n",
        "print('eigenvalues:')\n",
        "print(e)\n",
        "# eigenvectors\n",
        "print('eigenvectors:')\n",
        "print(v)\n",
        "\n",
        "X = pd.DataFrame(v)\n",
        "\n",
        "pca = PCA(n_components = 2)\n",
        "X_principal = pca.fit_transform(X)\n",
        "X_principal = pd.DataFrame(X_principal)\n",
        "X_principal.columns = ['C1', 'C2']\n",
        "\n",
        "spectral_model_rbf = SpectralClustering()\n",
        "labels_rbf = spectral_model_rbf.fit_predict(X_principal)\n",
        "end = time.time()\n",
        "print(f\"Total runtime of the program is {end - start}\")\n"
      ],
      "execution_count": 17,
      "outputs": [
        {
          "output_type": "stream",
          "name": "stdout",
          "text": [
            "[[0 1 1 ... 1 0 0]\n",
            " [1 0 1 ... 0 0 0]\n",
            " [1 1 0 ... 0 1 0]\n",
            " ...\n",
            " [1 0 0 ... 0 1 1]\n",
            " [0 0 1 ... 1 0 1]\n",
            " [0 0 0 ... 1 1 0]]\n",
            "degree matrix:\n",
            "[[16  0  0 ...  0  0  0]\n",
            " [ 0  9  0 ...  0  0  0]\n",
            " [ 0  0 10 ...  0  0  0]\n",
            " ...\n",
            " [ 0  0  0 ...  6  0  0]\n",
            " [ 0  0  0 ...  0 12  0]\n",
            " [ 0  0  0 ...  0  0 17]]\n",
            "laplacian matrix:\n",
            "[[16 -1 -1 ... -1  0  0]\n",
            " [-1  9 -1 ...  0  0  0]\n",
            " [-1 -1 10 ...  0 -1  0]\n",
            " ...\n",
            " [-1  0  0 ...  6 -1 -1]\n",
            " [ 0  0 -1 ... -1 12 -1]\n",
            " [ 0  0  0 ... -1 -1 17]]\n",
            "eigenvalues:\n",
            "[ 1.81366960e+01  1.70551712e+01  1.33061223e+01  1.09210675e+01\n",
            "  9.77724095e+00  6.99619703e+00  6.51554463e+00  6.33159222e+00\n",
            " -3.15388410e-16  5.37859508e+00  4.68525227e-01  4.58079267e+00\n",
            "  4.48000767e+00  4.27587682e+00  9.09247664e-01  1.12501072e+00\n",
            "  1.25940411e+00  2.48709173e+00  2.74915718e+00  3.01396297e+00\n",
            "  3.47218740e+00  3.24206748e+00  3.37615409e+00  1.59928308e+00\n",
            "  1.76189862e+00  1.82605521e+00  1.95505045e+00  5.61803399e+00\n",
            "  3.38196601e+00  2.00000000e+00  2.00000000e+00  2.00000000e+00\n",
            "  2.00000000e+00  2.00000000e+00]\n",
            "eigenvectors:\n",
            "[[ 1.93749031e-01 -9.40932167e-01 -9.47825261e-02 ...  2.03439489e-17\n",
            "   4.14472832e-17  1.06960284e-16]\n",
            " [ 5.22422164e-03  6.58647640e-02  9.91845054e-02 ... -8.83311895e-17\n",
            "  -1.19847762e-16  3.14164085e-17]\n",
            " [ 2.91860881e-02  1.15069117e-01 -3.14797911e-01 ... -1.48235420e-16\n",
            "   2.43488171e-16 -6.37654154e-17]\n",
            " ...\n",
            " [-8.55124031e-02  7.68509217e-02 -1.23027130e-01 ...  5.10917986e-17\n",
            "  -1.27419743e-16  8.30966748e-17]\n",
            " [-5.90752833e-02 -7.43433668e-02  8.89558873e-01 ...  7.91220024e-17\n",
            "  -1.75068408e-16  1.07665588e-16]\n",
            " [ 9.43479415e-01  2.01841425e-01  3.74802971e-02 ...  1.49492785e-17\n",
            "   5.72199531e-18  1.58502432e-17]]\n",
            "Total runtime of the program is 0.15405869483947754\n"
          ]
        }
      ]
    },
    {
      "cell_type": "code",
      "metadata": {
        "id": "QQEJPZixMQZc"
      },
      "source": [
        ""
      ],
      "execution_count": null,
      "outputs": []
    }
  ]
}